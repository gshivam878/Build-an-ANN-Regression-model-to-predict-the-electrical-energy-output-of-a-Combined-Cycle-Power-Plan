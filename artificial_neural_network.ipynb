{
 "cells": [
  {
   "cell_type": "markdown",
   "metadata": {
    "colab_type": "text",
    "id": "3cbb7fRy-eyr"
   },
   "source": [
    "# Artificial Neural Network"
   ]
  },
  {
   "cell_type": "markdown",
   "metadata": {
    "colab_type": "text",
    "id": "8sNDnxE2-pwE"
   },
   "source": [
    "### Importing the libraries"
   ]
  },
  {
   "cell_type": "code",
   "execution_count": 22,
   "metadata": {
    "colab": {},
    "colab_type": "code",
    "id": "lxChR1Rk-umf"
   },
   "outputs": [],
   "source": [
    "import numpy as np\n",
    "import pandas as pd\n",
    "import tensorflow as tf\n",
    "import matplotlib.pyplot as plt"
   ]
  },
  {
   "cell_type": "code",
   "execution_count": 8,
   "metadata": {
    "colab": {
     "base_uri": "https://localhost:8080/",
     "height": 34
    },
    "colab_type": "code",
    "id": "uBTqR3nacj0e",
    "outputId": "4c0bd183-e424-429a-9fba-ceb841c06888"
   },
   "outputs": [
    {
     "data": {
      "text/plain": [
       "'2.9.1'"
      ]
     },
     "execution_count": 8,
     "metadata": {},
     "output_type": "execute_result"
    }
   ],
   "source": [
    "tf.__version__"
   ]
  },
  {
   "cell_type": "markdown",
   "metadata": {
    "colab_type": "text",
    "id": "AG3FQEch-yuA"
   },
   "source": [
    "## Part 1 - Data Preprocessing"
   ]
  },
  {
   "cell_type": "markdown",
   "metadata": {
    "colab_type": "text",
    "id": "-4zq8Mza_D9O"
   },
   "source": [
    "### Importing the dataset"
   ]
  },
  {
   "cell_type": "code",
   "execution_count": 9,
   "metadata": {
    "colab": {},
    "colab_type": "code",
    "id": "B9CV13Co_HHM"
   },
   "outputs": [],
   "source": [
    "dataset = pd.read_excel('Folds5x2_pp.xlsx')\n",
    "X = dataset.iloc[:, :-1].values\n",
    "y = dataset.iloc[:, -1].values"
   ]
  },
  {
   "cell_type": "markdown",
   "metadata": {
    "colab_type": "text",
    "id": "VC6omXel_Up0"
   },
   "source": [
    "### Splitting the dataset into the Training set and Test set"
   ]
  },
  {
   "cell_type": "code",
   "execution_count": 10,
   "metadata": {
    "colab": {},
    "colab_type": "code",
    "id": "L5edeb2r_agx"
   },
   "outputs": [],
   "source": [
    "from sklearn.model_selection import train_test_split\n",
    "X_train, X_test, y_train, y_test = train_test_split(X, y, test_size = 0.2, random_state = 0)"
   ]
  },
  {
   "cell_type": "markdown",
   "metadata": {
    "colab_type": "text",
    "id": "_mSLlAT9_eyI"
   },
   "source": [
    "## Part 2 - Building the ANN"
   ]
  },
  {
   "cell_type": "markdown",
   "metadata": {
    "colab_type": "text",
    "id": "CsBULd_f_wLY"
   },
   "source": [
    "### Initializing the ANN"
   ]
  },
  {
   "cell_type": "code",
   "execution_count": 11,
   "metadata": {
    "colab": {},
    "colab_type": "code",
    "id": "J6Hd97Ls__Nz"
   },
   "outputs": [],
   "source": [
    "ann = tf.keras.models.Sequential()"
   ]
  },
  {
   "cell_type": "markdown",
   "metadata": {
    "colab_type": "text",
    "id": "iitAFJS_ABUn"
   },
   "source": [
    "### Adding the input layer and the first hidden layer"
   ]
  },
  {
   "cell_type": "code",
   "execution_count": 12,
   "metadata": {
    "colab": {},
    "colab_type": "code",
    "id": "ksO_Vv40AHix"
   },
   "outputs": [],
   "source": [
    "ann.add(tf.keras.layers.Dense(units=6, activation='relu'))"
   ]
  },
  {
   "cell_type": "markdown",
   "metadata": {
    "colab_type": "text",
    "id": "-lb4kK_wAKbs"
   },
   "source": [
    "### Adding the second hidden layer"
   ]
  },
  {
   "cell_type": "code",
   "execution_count": 13,
   "metadata": {
    "colab": {},
    "colab_type": "code",
    "id": "c2357OqEAQOQ"
   },
   "outputs": [],
   "source": [
    "ann.add(tf.keras.layers.Dense(units=6, activation='relu'))"
   ]
  },
  {
   "cell_type": "markdown",
   "metadata": {
    "colab_type": "text",
    "id": "jwMOmKb3AdBY"
   },
   "source": [
    "### Adding the output layer"
   ]
  },
  {
   "cell_type": "code",
   "execution_count": 14,
   "metadata": {
    "colab": {},
    "colab_type": "code",
    "id": "YFATpzsUAkLL"
   },
   "outputs": [],
   "source": [
    "ann.add(tf.keras.layers.Dense(units=1))"
   ]
  },
  {
   "cell_type": "markdown",
   "metadata": {
    "colab_type": "text",
    "id": "fq7e4fF6A1yy"
   },
   "source": [
    "## Part 3 - Training the ANN"
   ]
  },
  {
   "cell_type": "markdown",
   "metadata": {
    "colab_type": "text",
    "id": "qDeylAs2An25"
   },
   "source": [
    "### Compiling the ANN"
   ]
  },
  {
   "cell_type": "code",
   "execution_count": 15,
   "metadata": {
    "colab": {},
    "colab_type": "code",
    "id": "pesgbWlCAtB4"
   },
   "outputs": [],
   "source": [
    "ann.compile(optimizer = 'adam', loss = 'mean_squared_error')"
   ]
  },
  {
   "cell_type": "markdown",
   "metadata": {
    "colab_type": "text",
    "id": "YjVuiybYOo7r"
   },
   "source": [
    "### Training the ANN model on the Training set"
   ]
  },
  {
   "cell_type": "code",
   "execution_count": 16,
   "metadata": {
    "colab": {
     "base_uri": "https://localhost:8080/",
     "height": 1000
    },
    "colab_type": "code",
    "id": "c_vV-tiiA5zn",
    "outputId": "4a2b6ee6-ed75-4698-9069-b250e613803f"
   },
   "outputs": [
    {
     "name": "stdout",
     "output_type": "stream",
     "text": [
      "Epoch 1/100\n",
      "240/240 [==============================] - 2s 3ms/step - loss: 30995.2969\n",
      "Epoch 2/100\n",
      "240/240 [==============================] - 1s 3ms/step - loss: 393.7818\n",
      "Epoch 3/100\n",
      "240/240 [==============================] - 1s 3ms/step - loss: 368.5164\n",
      "Epoch 4/100\n",
      "240/240 [==============================] - 1s 3ms/step - loss: 336.7886\n",
      "Epoch 5/100\n",
      "240/240 [==============================] - 1s 3ms/step - loss: 302.2438\n",
      "Epoch 6/100\n",
      "240/240 [==============================] - 1s 3ms/step - loss: 265.6147\n",
      "Epoch 7/100\n",
      "240/240 [==============================] - 1s 3ms/step - loss: 228.6262\n",
      "Epoch 8/100\n",
      "240/240 [==============================] - 1s 3ms/step - loss: 192.6688\n",
      "Epoch 9/100\n",
      "240/240 [==============================] - 1s 3ms/step - loss: 158.0138\n",
      "Epoch 10/100\n",
      "240/240 [==============================] - 1s 3ms/step - loss: 126.3434\n",
      "Epoch 11/100\n",
      "240/240 [==============================] - 1s 3ms/step - loss: 98.1379\n",
      "Epoch 12/100\n",
      "240/240 [==============================] - 1s 3ms/step - loss: 75.3152\n",
      "Epoch 13/100\n",
      "240/240 [==============================] - 1s 3ms/step - loss: 57.4031\n",
      "Epoch 14/100\n",
      "240/240 [==============================] - 1s 3ms/step - loss: 44.7580\n",
      "Epoch 15/100\n",
      "240/240 [==============================] - 1s 3ms/step - loss: 36.3959\n",
      "Epoch 16/100\n",
      "240/240 [==============================] - 1s 3ms/step - loss: 31.5133\n",
      "Epoch 17/100\n",
      "240/240 [==============================] - 1s 3ms/step - loss: 28.7559\n",
      "Epoch 18/100\n",
      "240/240 [==============================] - 1s 3ms/step - loss: 27.7173\n",
      "Epoch 19/100\n",
      "240/240 [==============================] - 1s 3ms/step - loss: 27.1025\n",
      "Epoch 20/100\n",
      "240/240 [==============================] - 1s 3ms/step - loss: 26.7875\n",
      "Epoch 21/100\n",
      "240/240 [==============================] - 1s 3ms/step - loss: 26.9419\n",
      "Epoch 22/100\n",
      "240/240 [==============================] - 1s 3ms/step - loss: 26.8360\n",
      "Epoch 23/100\n",
      "240/240 [==============================] - 1s 3ms/step - loss: 27.1766\n",
      "Epoch 24/100\n",
      "240/240 [==============================] - 1s 3ms/step - loss: 26.8115\n",
      "Epoch 25/100\n",
      "240/240 [==============================] - 1s 3ms/step - loss: 26.6579\n",
      "Epoch 26/100\n",
      "240/240 [==============================] - 1s 3ms/step - loss: 26.6946\n",
      "Epoch 27/100\n",
      "240/240 [==============================] - 1s 3ms/step - loss: 26.6550\n",
      "Epoch 28/100\n",
      "240/240 [==============================] - 1s 3ms/step - loss: 26.7548\n",
      "Epoch 29/100\n",
      "240/240 [==============================] - 1s 3ms/step - loss: 26.9832\n",
      "Epoch 30/100\n",
      "240/240 [==============================] - 1s 3ms/step - loss: 26.5902\n",
      "Epoch 31/100\n",
      "240/240 [==============================] - 1s 3ms/step - loss: 27.5515\n",
      "Epoch 32/100\n",
      "240/240 [==============================] - 1s 3ms/step - loss: 27.0461\n",
      "Epoch 33/100\n",
      "240/240 [==============================] - 1s 3ms/step - loss: 26.7281\n",
      "Epoch 34/100\n",
      "240/240 [==============================] - 1s 3ms/step - loss: 26.9669\n",
      "Epoch 35/100\n",
      "240/240 [==============================] - 1s 3ms/step - loss: 27.0155\n",
      "Epoch 36/100\n",
      "240/240 [==============================] - 1s 3ms/step - loss: 26.9394\n",
      "Epoch 37/100\n",
      "240/240 [==============================] - 1s 3ms/step - loss: 27.0048\n",
      "Epoch 38/100\n",
      "240/240 [==============================] - 1s 3ms/step - loss: 26.9824\n",
      "Epoch 39/100\n",
      "240/240 [==============================] - 1s 3ms/step - loss: 27.4665\n",
      "Epoch 40/100\n",
      "240/240 [==============================] - 1s 3ms/step - loss: 27.0743\n",
      "Epoch 41/100\n",
      "240/240 [==============================] - 1s 3ms/step - loss: 27.0978\n",
      "Epoch 42/100\n",
      "240/240 [==============================] - 1s 3ms/step - loss: 26.5163\n",
      "Epoch 43/100\n",
      "240/240 [==============================] - 1s 3ms/step - loss: 27.1126\n",
      "Epoch 44/100\n",
      "240/240 [==============================] - 1s 3ms/step - loss: 27.0078\n",
      "Epoch 45/100\n",
      "240/240 [==============================] - 1s 3ms/step - loss: 27.0587\n",
      "Epoch 46/100\n",
      "240/240 [==============================] - 1s 3ms/step - loss: 26.7531\n",
      "Epoch 47/100\n",
      "240/240 [==============================] - 1s 3ms/step - loss: 26.6457\n",
      "Epoch 48/100\n",
      "240/240 [==============================] - 1s 3ms/step - loss: 27.0801\n",
      "Epoch 49/100\n",
      "240/240 [==============================] - 1s 3ms/step - loss: 26.8270\n",
      "Epoch 50/100\n",
      "240/240 [==============================] - 1s 3ms/step - loss: 26.8876\n",
      "Epoch 51/100\n",
      "240/240 [==============================] - 1s 3ms/step - loss: 26.9135\n",
      "Epoch 52/100\n",
      "240/240 [==============================] - 1s 3ms/step - loss: 27.2447\n",
      "Epoch 53/100\n",
      "240/240 [==============================] - 1s 3ms/step - loss: 27.3582\n",
      "Epoch 54/100\n",
      "240/240 [==============================] - 1s 3ms/step - loss: 26.8283\n",
      "Epoch 55/100\n",
      "240/240 [==============================] - 1s 3ms/step - loss: 28.6112\n",
      "Epoch 56/100\n",
      "240/240 [==============================] - 1s 3ms/step - loss: 27.5860\n",
      "Epoch 57/100\n",
      "240/240 [==============================] - 1s 3ms/step - loss: 26.9194\n",
      "Epoch 58/100\n",
      "240/240 [==============================] - 1s 3ms/step - loss: 27.3364\n",
      "Epoch 59/100\n",
      "240/240 [==============================] - 1s 3ms/step - loss: 26.6442\n",
      "Epoch 60/100\n",
      "240/240 [==============================] - 1s 3ms/step - loss: 26.7339\n",
      "Epoch 61/100\n",
      "240/240 [==============================] - 1s 3ms/step - loss: 27.2274\n",
      "Epoch 62/100\n",
      "240/240 [==============================] - 1s 3ms/step - loss: 26.4854\n",
      "Epoch 63/100\n",
      "240/240 [==============================] - 1s 3ms/step - loss: 26.6862\n",
      "Epoch 64/100\n",
      "240/240 [==============================] - 1s 3ms/step - loss: 27.1589\n",
      "Epoch 65/100\n",
      "240/240 [==============================] - 1s 3ms/step - loss: 26.3358\n",
      "Epoch 66/100\n",
      "240/240 [==============================] - 1s 3ms/step - loss: 26.1551\n",
      "Epoch 67/100\n",
      "240/240 [==============================] - 1s 3ms/step - loss: 25.9877\n",
      "Epoch 68/100\n",
      "240/240 [==============================] - 1s 3ms/step - loss: 26.6513\n",
      "Epoch 69/100\n",
      "240/240 [==============================] - 1s 3ms/step - loss: 26.0926\n",
      "Epoch 70/100\n",
      "240/240 [==============================] - 1s 3ms/step - loss: 25.8559\n",
      "Epoch 71/100\n",
      "240/240 [==============================] - 1s 2ms/step - loss: 25.3481\n",
      "Epoch 72/100\n",
      "240/240 [==============================] - 1s 3ms/step - loss: 25.0635\n",
      "Epoch 73/100\n",
      "240/240 [==============================] - 1s 3ms/step - loss: 24.8980\n",
      "Epoch 74/100\n",
      "240/240 [==============================] - 1s 4ms/step - loss: 24.9348\n",
      "Epoch 75/100\n",
      "240/240 [==============================] - 1s 3ms/step - loss: 24.9478\n",
      "Epoch 76/100\n",
      "240/240 [==============================] - 1s 3ms/step - loss: 24.9256\n",
      "Epoch 77/100\n",
      "240/240 [==============================] - 1s 3ms/step - loss: 24.6612\n",
      "Epoch 78/100\n",
      "240/240 [==============================] - 1s 3ms/step - loss: 24.6234\n",
      "Epoch 79/100\n",
      "240/240 [==============================] - 1s 3ms/step - loss: 25.0227\n",
      "Epoch 80/100\n",
      "240/240 [==============================] - 1s 3ms/step - loss: 24.6638\n",
      "Epoch 81/100\n",
      "240/240 [==============================] - 1s 3ms/step - loss: 24.6700\n",
      "Epoch 82/100\n",
      "240/240 [==============================] - 1s 3ms/step - loss: 24.9179\n",
      "Epoch 83/100\n",
      "240/240 [==============================] - 1s 3ms/step - loss: 24.7104\n",
      "Epoch 84/100\n",
      "240/240 [==============================] - 1s 3ms/step - loss: 24.6560\n",
      "Epoch 85/100\n",
      "240/240 [==============================] - 1s 3ms/step - loss: 25.4247\n",
      "Epoch 86/100\n",
      "240/240 [==============================] - 1s 3ms/step - loss: 24.8838\n",
      "Epoch 87/100\n",
      "240/240 [==============================] - 1s 3ms/step - loss: 25.2864\n",
      "Epoch 88/100\n",
      "240/240 [==============================] - 1s 3ms/step - loss: 24.3354\n",
      "Epoch 89/100\n",
      "240/240 [==============================] - 1s 2ms/step - loss: 25.0206\n",
      "Epoch 90/100\n",
      "240/240 [==============================] - 1s 3ms/step - loss: 24.1582\n",
      "Epoch 91/100\n",
      "240/240 [==============================] - 1s 3ms/step - loss: 24.8539\n",
      "Epoch 92/100\n",
      "240/240 [==============================] - 1s 3ms/step - loss: 24.6862\n",
      "Epoch 93/100\n",
      "240/240 [==============================] - 0s 2ms/step - loss: 24.9683\n",
      "Epoch 94/100\n",
      "240/240 [==============================] - 1s 3ms/step - loss: 24.3131\n",
      "Epoch 95/100\n",
      "240/240 [==============================] - 1s 3ms/step - loss: 24.1693\n",
      "Epoch 96/100\n",
      "240/240 [==============================] - 1s 3ms/step - loss: 24.5121\n",
      "Epoch 97/100\n",
      "240/240 [==============================] - 1s 3ms/step - loss: 24.7133\n",
      "Epoch 98/100\n"
     ]
    },
    {
     "name": "stdout",
     "output_type": "stream",
     "text": [
      "240/240 [==============================] - 1s 3ms/step - loss: 25.2386\n",
      "Epoch 99/100\n",
      "240/240 [==============================] - 1s 3ms/step - loss: 24.5860\n",
      "Epoch 100/100\n",
      "240/240 [==============================] - 1s 3ms/step - loss: 24.2223\n"
     ]
    },
    {
     "data": {
      "text/plain": [
       "<keras.callbacks.History at 0x2146f7dadc0>"
      ]
     },
     "execution_count": 16,
     "metadata": {},
     "output_type": "execute_result"
    }
   ],
   "source": [
    "ann.fit(X_train, y_train, batch_size = 32, epochs = 100)"
   ]
  },
  {
   "cell_type": "markdown",
   "metadata": {
    "colab_type": "text",
    "id": "0H0zKKNEBLD5"
   },
   "source": [
    "### Predicting the results of the Test set"
   ]
  },
  {
   "cell_type": "code",
   "execution_count": 17,
   "metadata": {
    "colab": {
     "base_uri": "https://localhost:8080/",
     "height": 134
    },
    "colab_type": "code",
    "id": "IA0yApEmBG1X",
    "outputId": "cb981e1f-9204-4a2a-fece-9d66a6919189"
   },
   "outputs": [
    {
     "name": "stdout",
     "output_type": "stream",
     "text": [
      "60/60 [==============================] - 0s 3ms/step\n",
      "[[430.94 431.23]\n",
      " [459.62 460.01]\n",
      " [465.65 461.14]\n",
      " ...\n",
      " [472.38 473.26]\n",
      " [439.75 438.  ]\n",
      " [455.73 463.28]]\n"
     ]
    }
   ],
   "source": [
    "y_pred = ann.predict(X_test)\n",
    "np.set_printoptions(precision=2)\n",
    "print(np.concatenate((y_pred.reshape(len(y_pred),1), y_test.reshape(len(y_test),1)),1))"
   ]
  },
  {
   "cell_type": "code",
   "execution_count": 21,
   "metadata": {},
   "outputs": [
    {
     "data": {
      "image/png": "[encoded data removed]",
      "text/plain": [
       "<Figure size 432x288 with 1 Axes>"
      ]
     },
     "metadata": {
      "needs_background": "light"
     },
     "output_type": "display_data"
    }
   ],
   "source": [
    "plt.scatter(y_pred,y_test)\n",
    "plt.show()"
   ]
  },
  {
   "cell_type": "code",
   "execution_count": null,
   "metadata": {},
   "outputs": [],
   "source": []
  }
 ],
 "metadata": {
  "colab": {
   "collapsed_sections": [],
   "name": "Artificial Neural Network",
   "provenance": [],
   "toc_visible": true
  },
  "kernelspec": {
   "display_name": "Python 3 (ipykernel)",
   "language": "python",
   "name": "python3"
  },
  "language_info": {
   "codemirror_mode": {
    "name": "ipython",
    "version": 3
   },
   "file_extension": ".py",
   "mimetype": "text/x-python",
   "name": "python",
   "nbconvert_exporter": "python",
   "pygments_lexer": "ipython3",
   "version": "3.9.12"
  }
 },
 "nbformat": 4,
 "nbformat_minor": 1
}
